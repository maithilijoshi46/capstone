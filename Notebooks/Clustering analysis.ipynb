{
 "cells": [
  {
   "cell_type": "markdown",
   "metadata": {},
   "source": [
    "# Clustering analysis using PCA\n",
    "\n",
    "\n",
    "What you will find in here:\n",
    "- [Clustering Analysis](#Clustering)\n",
    "- [Variance](#Variance)"
   ]
  },
  {
   "cell_type": "code",
   "execution_count": 21,
   "metadata": {},
   "outputs": [],
   "source": [
    "#Load all my imports necessary \n",
    "\n",
    "import numpy as np \n",
    "import pandas as pd \n",
    "import matplotlib.pyplot as plt\n",
    "import seaborn as sns\n",
    "import random\n",
    "\n",
    "from xgboost import XGBClassifier\n",
    "\n",
    "from sklearn.decomposition import PCA\n",
    "from sklearn.model_selection import train_test_split, cross_val_score\n",
    "from sklearn.preprocessing import StandardScaler\n",
    "from sklearn.metrics import silhouette_score, f1_score\n",
    "from sklearn.cluster import KMeans, DBSCAN\n",
    "\n",
    "%matplotlib inline"
   ]
  },
  {
   "cell_type": "code",
   "execution_count": 22,
   "metadata": {},
   "outputs": [],
   "source": [
    "order_products_train= pd.read_csv(\"../data/order_products__train.csv\")\n",
    "order_products_prior = pd.read_csv(\"../data/order_products__prior.csv\")\n",
    "orders = pd.read_csv(\"../data/orders.csv\")\n",
    "products = pd.read_csv(\"../data/products.csv\")\n",
    "aisles = pd.read_csv(\"../data/aisles.csv\")\n",
    "departments = pd.read_csv(\"../data/departments.csv\")\n",
    "orders_train_all = pd.read_csv(\"../data/orders_train_all.csv\")"
   ]
  },
  {
   "cell_type": "markdown",
   "metadata": {},
   "source": [
    "# Randomly selecting some of the data\n",
    "\n",
    "PCA wouldn't run with the number of rows and columns in the original dataframe, so I created a smaller subset from the dataframe I created with all my engineered features"
   ]
  },
  {
   "cell_type": "code",
   "execution_count": 24,
   "metadata": {},
   "outputs": [],
   "source": [
    "#subsetting from the prior eval set\n",
    "priors = orders.loc[orders['eval_set']=='prior']\n",
    "\n",
    "#looking at unique user ID's\n",
    "prior_users = priors['user_id'].unique().tolist()\n",
    "\n",
    "#gathering a smaller, random sample from the original set \n",
    "#in order to conduct a PCA and have it not take 10 million years\n",
    "random_prior = random.sample(range(len(prior_users)), 25000)\n",
    "\n",
    "\n",
    "#new users and the random subset mapped onto each other\n",
    "users_prior = [prior_users[i] for i in random_prior]\n",
    "\n",
    "#iterating through user id and making sure it's in the new subset dataframe\n",
    "sample_orders = orders[orders['user_id'].isin(random_prior)]\n",
    "\n",
    "#creating a list of orders within this new dataframe\n",
    "orders_list = sample_orders['order_id'].unique().tolist()"
   ]
  },
  {
   "cell_type": "code",
   "execution_count": 25,
   "metadata": {
    "scrolled": true
   },
   "outputs": [
    {
     "data": {
      "text/plain": [
       "(3597584, 23)"
      ]
     },
     "execution_count": 25,
     "metadata": {},
     "output_type": "execute_result"
    }
   ],
   "source": [
    "orders_train_all.shape"
   ]
  },
  {
   "cell_type": "code",
   "execution_count": 26,
   "metadata": {},
   "outputs": [
    {
     "data": {
      "text/html": [
       "<div>\n",
       "<style scoped>\n",
       "    .dataframe tbody tr th:only-of-type {\n",
       "        vertical-align: middle;\n",
       "    }\n",
       "\n",
       "    .dataframe tbody tr th {\n",
       "        vertical-align: top;\n",
       "    }\n",
       "\n",
       "    .dataframe thead th {\n",
       "        text-align: right;\n",
       "    }\n",
       "</style>\n",
       "<table border=\"1\" class=\"dataframe\">\n",
       "  <thead>\n",
       "    <tr style=\"text-align: right;\">\n",
       "      <th></th>\n",
       "      <th>product_id</th>\n",
       "      <th>product_name</th>\n",
       "      <th>aisle_id</th>\n",
       "      <th>department_id</th>\n",
       "      <th>order_id</th>\n",
       "      <th>add_to_cart_order</th>\n",
       "      <th>reordered</th>\n",
       "      <th>user_id</th>\n",
       "      <th>eval_set</th>\n",
       "      <th>order_number</th>\n",
       "      <th>...</th>\n",
       "      <th>average_orders</th>\n",
       "      <th>average_order_dow</th>\n",
       "      <th>average_order_hour</th>\n",
       "      <th>weekend</th>\n",
       "      <th>rate_reordered</th>\n",
       "      <th>department</th>\n",
       "      <th>aisle</th>\n",
       "      <th>aisle_cat</th>\n",
       "      <th>dept_cat</th>\n",
       "      <th>product_cat</th>\n",
       "    </tr>\n",
       "  </thead>\n",
       "  <tbody>\n",
       "    <tr>\n",
       "      <th>0</th>\n",
       "      <td>1</td>\n",
       "      <td>Chocolate Sandwich Cookies</td>\n",
       "      <td>61</td>\n",
       "      <td>19</td>\n",
       "      <td>1107</td>\n",
       "      <td>7</td>\n",
       "      <td>0.0</td>\n",
       "      <td>38259</td>\n",
       "      <td>prior</td>\n",
       "      <td>2</td>\n",
       "      <td>...</td>\n",
       "      <td>0.0</td>\n",
       "      <td>0.0</td>\n",
       "      <td>0.0</td>\n",
       "      <td>1</td>\n",
       "      <td>0.0</td>\n",
       "      <td>snacks</td>\n",
       "      <td>cookies cakes</td>\n",
       "      <td>0</td>\n",
       "      <td>0</td>\n",
       "      <td>NaN</td>\n",
       "    </tr>\n",
       "    <tr>\n",
       "      <th>1</th>\n",
       "      <td>1</td>\n",
       "      <td>Chocolate Sandwich Cookies</td>\n",
       "      <td>61</td>\n",
       "      <td>19</td>\n",
       "      <td>7540</td>\n",
       "      <td>4</td>\n",
       "      <td>1.0</td>\n",
       "      <td>138499</td>\n",
       "      <td>prior</td>\n",
       "      <td>8</td>\n",
       "      <td>...</td>\n",
       "      <td>0.0</td>\n",
       "      <td>0.0</td>\n",
       "      <td>0.0</td>\n",
       "      <td>1</td>\n",
       "      <td>0.0</td>\n",
       "      <td>snacks</td>\n",
       "      <td>cookies cakes</td>\n",
       "      <td>0</td>\n",
       "      <td>0</td>\n",
       "      <td>NaN</td>\n",
       "    </tr>\n",
       "    <tr>\n",
       "      <th>2</th>\n",
       "      <td>1</td>\n",
       "      <td>Chocolate Sandwich Cookies</td>\n",
       "      <td>61</td>\n",
       "      <td>19</td>\n",
       "      <td>9228</td>\n",
       "      <td>2</td>\n",
       "      <td>0.0</td>\n",
       "      <td>79603</td>\n",
       "      <td>prior</td>\n",
       "      <td>2</td>\n",
       "      <td>...</td>\n",
       "      <td>0.0</td>\n",
       "      <td>0.0</td>\n",
       "      <td>0.0</td>\n",
       "      <td>0</td>\n",
       "      <td>0.0</td>\n",
       "      <td>snacks</td>\n",
       "      <td>cookies cakes</td>\n",
       "      <td>0</td>\n",
       "      <td>0</td>\n",
       "      <td>NaN</td>\n",
       "    </tr>\n",
       "    <tr>\n",
       "      <th>3</th>\n",
       "      <td>1</td>\n",
       "      <td>Chocolate Sandwich Cookies</td>\n",
       "      <td>61</td>\n",
       "      <td>19</td>\n",
       "      <td>9273</td>\n",
       "      <td>30</td>\n",
       "      <td>0.0</td>\n",
       "      <td>50005</td>\n",
       "      <td>prior</td>\n",
       "      <td>1</td>\n",
       "      <td>...</td>\n",
       "      <td>0.0</td>\n",
       "      <td>0.0</td>\n",
       "      <td>0.0</td>\n",
       "      <td>1</td>\n",
       "      <td>0.0</td>\n",
       "      <td>snacks</td>\n",
       "      <td>cookies cakes</td>\n",
       "      <td>0</td>\n",
       "      <td>0</td>\n",
       "      <td>NaN</td>\n",
       "    </tr>\n",
       "    <tr>\n",
       "      <th>4</th>\n",
       "      <td>1</td>\n",
       "      <td>Chocolate Sandwich Cookies</td>\n",
       "      <td>61</td>\n",
       "      <td>19</td>\n",
       "      <td>9696</td>\n",
       "      <td>5</td>\n",
       "      <td>1.0</td>\n",
       "      <td>108919</td>\n",
       "      <td>prior</td>\n",
       "      <td>46</td>\n",
       "      <td>...</td>\n",
       "      <td>0.0</td>\n",
       "      <td>0.0</td>\n",
       "      <td>0.0</td>\n",
       "      <td>0</td>\n",
       "      <td>0.0</td>\n",
       "      <td>snacks</td>\n",
       "      <td>cookies cakes</td>\n",
       "      <td>0</td>\n",
       "      <td>0</td>\n",
       "      <td>NaN</td>\n",
       "    </tr>\n",
       "  </tbody>\n",
       "</table>\n",
       "<p>5 rows × 23 columns</p>\n",
       "</div>"
      ],
      "text/plain": [
       "   product_id                product_name  aisle_id  department_id  order_id  \\\n",
       "0           1  Chocolate Sandwich Cookies        61             19      1107   \n",
       "1           1  Chocolate Sandwich Cookies        61             19      7540   \n",
       "2           1  Chocolate Sandwich Cookies        61             19      9228   \n",
       "3           1  Chocolate Sandwich Cookies        61             19      9273   \n",
       "4           1  Chocolate Sandwich Cookies        61             19      9696   \n",
       "\n",
       "   add_to_cart_order  reordered  user_id eval_set  order_number  ...  \\\n",
       "0                  7        0.0    38259    prior             2  ...   \n",
       "1                  4        1.0   138499    prior             8  ...   \n",
       "2                  2        0.0    79603    prior             2  ...   \n",
       "3                 30        0.0    50005    prior             1  ...   \n",
       "4                  5        1.0   108919    prior            46  ...   \n",
       "\n",
       "   average_orders  average_order_dow  average_order_hour  weekend  \\\n",
       "0             0.0                0.0                 0.0        1   \n",
       "1             0.0                0.0                 0.0        1   \n",
       "2             0.0                0.0                 0.0        0   \n",
       "3             0.0                0.0                 0.0        1   \n",
       "4             0.0                0.0                 0.0        0   \n",
       "\n",
       "   rate_reordered  department          aisle  aisle_cat dept_cat product_cat  \n",
       "0             0.0      snacks  cookies cakes          0        0         NaN  \n",
       "1             0.0      snacks  cookies cakes          0        0         NaN  \n",
       "2             0.0      snacks  cookies cakes          0        0         NaN  \n",
       "3             0.0      snacks  cookies cakes          0        0         NaN  \n",
       "4             0.0      snacks  cookies cakes          0        0         NaN  \n",
       "\n",
       "[5 rows x 23 columns]"
      ]
     },
     "execution_count": 26,
     "metadata": {},
     "output_type": "execute_result"
    }
   ],
   "source": [
    "orders_train_all.head()"
   ]
  },
  {
   "cell_type": "code",
   "execution_count": 27,
   "metadata": {
    "scrolled": true
   },
   "outputs": [
    {
     "data": {
      "text/plain": [
       "(566215, 23)"
      ]
     },
     "execution_count": 27,
     "metadata": {},
     "output_type": "execute_result"
    }
   ],
   "source": [
    "priors_sample = orders_train_all[orders_train_all[\"order_id\"].isin(orders_list)]\n",
    "priors_sample.shape"
   ]
  },
  {
   "cell_type": "code",
   "execution_count": 29,
   "metadata": {},
   "outputs": [
    {
     "data": {
      "text/html": [
       "<div>\n",
       "<style scoped>\n",
       "    .dataframe tbody tr th:only-of-type {\n",
       "        vertical-align: middle;\n",
       "    }\n",
       "\n",
       "    .dataframe tbody tr th {\n",
       "        vertical-align: top;\n",
       "    }\n",
       "\n",
       "    .dataframe thead th {\n",
       "        text-align: right;\n",
       "    }\n",
       "</style>\n",
       "<table border=\"1\" class=\"dataframe\">\n",
       "  <thead>\n",
       "    <tr style=\"text-align: right;\">\n",
       "      <th></th>\n",
       "      <th>product_id</th>\n",
       "      <th>product_name</th>\n",
       "      <th>aisle_id</th>\n",
       "      <th>department_id</th>\n",
       "      <th>order_id</th>\n",
       "      <th>add_to_cart_order</th>\n",
       "      <th>reordered</th>\n",
       "      <th>user_id</th>\n",
       "      <th>eval_set</th>\n",
       "      <th>order_number</th>\n",
       "      <th>...</th>\n",
       "      <th>average_orders</th>\n",
       "      <th>average_order_dow</th>\n",
       "      <th>average_order_hour</th>\n",
       "      <th>weekend</th>\n",
       "      <th>rate_reordered</th>\n",
       "      <th>department</th>\n",
       "      <th>aisle</th>\n",
       "      <th>aisle_cat</th>\n",
       "      <th>dept_cat</th>\n",
       "      <th>product_cat</th>\n",
       "    </tr>\n",
       "  </thead>\n",
       "  <tbody>\n",
       "    <tr>\n",
       "      <th>2</th>\n",
       "      <td>1</td>\n",
       "      <td>Chocolate Sandwich Cookies</td>\n",
       "      <td>61</td>\n",
       "      <td>19</td>\n",
       "      <td>9228</td>\n",
       "      <td>2</td>\n",
       "      <td>0.0</td>\n",
       "      <td>79603</td>\n",
       "      <td>prior</td>\n",
       "      <td>2</td>\n",
       "      <td>...</td>\n",
       "      <td>0.0</td>\n",
       "      <td>0.0</td>\n",
       "      <td>0.0</td>\n",
       "      <td>0</td>\n",
       "      <td>0.000000</td>\n",
       "      <td>snacks</td>\n",
       "      <td>cookies cakes</td>\n",
       "      <td>0</td>\n",
       "      <td>0</td>\n",
       "      <td>NaN</td>\n",
       "    </tr>\n",
       "    <tr>\n",
       "      <th>22</th>\n",
       "      <td>1</td>\n",
       "      <td>Chocolate Sandwich Cookies</td>\n",
       "      <td>61</td>\n",
       "      <td>19</td>\n",
       "      <td>47122</td>\n",
       "      <td>6</td>\n",
       "      <td>1.0</td>\n",
       "      <td>38748</td>\n",
       "      <td>prior</td>\n",
       "      <td>16</td>\n",
       "      <td>...</td>\n",
       "      <td>0.0</td>\n",
       "      <td>0.0</td>\n",
       "      <td>0.0</td>\n",
       "      <td>1</td>\n",
       "      <td>0.714286</td>\n",
       "      <td>snacks</td>\n",
       "      <td>cookies cakes</td>\n",
       "      <td>0</td>\n",
       "      <td>0</td>\n",
       "      <td>NaN</td>\n",
       "    </tr>\n",
       "    <tr>\n",
       "      <th>29</th>\n",
       "      <td>1</td>\n",
       "      <td>Chocolate Sandwich Cookies</td>\n",
       "      <td>61</td>\n",
       "      <td>19</td>\n",
       "      <td>56811</td>\n",
       "      <td>1</td>\n",
       "      <td>1.0</td>\n",
       "      <td>113429</td>\n",
       "      <td>prior</td>\n",
       "      <td>17</td>\n",
       "      <td>...</td>\n",
       "      <td>0.0</td>\n",
       "      <td>0.0</td>\n",
       "      <td>0.0</td>\n",
       "      <td>0</td>\n",
       "      <td>1.000000</td>\n",
       "      <td>snacks</td>\n",
       "      <td>cookies cakes</td>\n",
       "      <td>0</td>\n",
       "      <td>0</td>\n",
       "      <td>NaN</td>\n",
       "    </tr>\n",
       "    <tr>\n",
       "      <th>30</th>\n",
       "      <td>1</td>\n",
       "      <td>Chocolate Sandwich Cookies</td>\n",
       "      <td>61</td>\n",
       "      <td>19</td>\n",
       "      <td>57503</td>\n",
       "      <td>3</td>\n",
       "      <td>1.0</td>\n",
       "      <td>111982</td>\n",
       "      <td>prior</td>\n",
       "      <td>76</td>\n",
       "      <td>...</td>\n",
       "      <td>0.0</td>\n",
       "      <td>0.0</td>\n",
       "      <td>0.0</td>\n",
       "      <td>1</td>\n",
       "      <td>0.000000</td>\n",
       "      <td>snacks</td>\n",
       "      <td>cookies cakes</td>\n",
       "      <td>0</td>\n",
       "      <td>0</td>\n",
       "      <td>NaN</td>\n",
       "    </tr>\n",
       "    <tr>\n",
       "      <th>31</th>\n",
       "      <td>1</td>\n",
       "      <td>Chocolate Sandwich Cookies</td>\n",
       "      <td>61</td>\n",
       "      <td>19</td>\n",
       "      <td>58691</td>\n",
       "      <td>14</td>\n",
       "      <td>1.0</td>\n",
       "      <td>144159</td>\n",
       "      <td>prior</td>\n",
       "      <td>3</td>\n",
       "      <td>...</td>\n",
       "      <td>0.0</td>\n",
       "      <td>0.0</td>\n",
       "      <td>0.0</td>\n",
       "      <td>0</td>\n",
       "      <td>0.000000</td>\n",
       "      <td>snacks</td>\n",
       "      <td>cookies cakes</td>\n",
       "      <td>0</td>\n",
       "      <td>0</td>\n",
       "      <td>NaN</td>\n",
       "    </tr>\n",
       "  </tbody>\n",
       "</table>\n",
       "<p>5 rows × 23 columns</p>\n",
       "</div>"
      ],
      "text/plain": [
       "    product_id                product_name  aisle_id  department_id  order_id  \\\n",
       "2            1  Chocolate Sandwich Cookies        61             19      9228   \n",
       "22           1  Chocolate Sandwich Cookies        61             19     47122   \n",
       "29           1  Chocolate Sandwich Cookies        61             19     56811   \n",
       "30           1  Chocolate Sandwich Cookies        61             19     57503   \n",
       "31           1  Chocolate Sandwich Cookies        61             19     58691   \n",
       "\n",
       "    add_to_cart_order  reordered  user_id eval_set  order_number  ...  \\\n",
       "2                   2        0.0    79603    prior             2  ...   \n",
       "22                  6        1.0    38748    prior            16  ...   \n",
       "29                  1        1.0   113429    prior            17  ...   \n",
       "30                  3        1.0   111982    prior            76  ...   \n",
       "31                 14        1.0   144159    prior             3  ...   \n",
       "\n",
       "    average_orders  average_order_dow  average_order_hour  weekend  \\\n",
       "2              0.0                0.0                 0.0        0   \n",
       "22             0.0                0.0                 0.0        1   \n",
       "29             0.0                0.0                 0.0        0   \n",
       "30             0.0                0.0                 0.0        1   \n",
       "31             0.0                0.0                 0.0        0   \n",
       "\n",
       "    rate_reordered  department          aisle  aisle_cat dept_cat product_cat  \n",
       "2         0.000000      snacks  cookies cakes          0        0         NaN  \n",
       "22        0.714286      snacks  cookies cakes          0        0         NaN  \n",
       "29        1.000000      snacks  cookies cakes          0        0         NaN  \n",
       "30        0.000000      snacks  cookies cakes          0        0         NaN  \n",
       "31        0.000000      snacks  cookies cakes          0        0         NaN  \n",
       "\n",
       "[5 rows x 23 columns]"
      ]
     },
     "execution_count": 29,
     "metadata": {},
     "output_type": "execute_result"
    }
   ],
   "source": [
    "priors_sample.head()"
   ]
  },
  {
   "cell_type": "code",
   "execution_count": 28,
   "metadata": {},
   "outputs": [],
   "source": [
    "priors_sample.to_csv('../data/priors_sample.csv')"
   ]
  },
  {
   "cell_type": "markdown",
   "metadata": {},
   "source": [
    "<a id='Clustering'></a>\n",
    "# Now to the clustering analysis"
   ]
  },
  {
   "cell_type": "code",
   "execution_count": 7,
   "metadata": {},
   "outputs": [],
   "source": [
    "features = ['product_id', 'aisle_id', 'department_id', 'order_id',\n",
    "       'add_to_cart_order', 'user_id', 'order_number',\n",
    "       'order_dow', 'order_hour_of_day', 'days_since_prior_order',\n",
    "       'average_orders', 'average_order_dow', 'average_order_hour', 'weekend',\n",
    "       'rate_reordered', 'aisle_cat', 'dept_cat']\n",
    "\n",
    "#Features\n",
    "X = priors_sample[features]\n",
    "y = priors_sample.reordered"
   ]
  },
  {
   "cell_type": "code",
   "execution_count": 8,
   "metadata": {},
   "outputs": [],
   "source": [
    "X_train, X_test, y_train, y_test = train_test_split(X, y, \n",
    "                 random_state = 42,\n",
    "                 stratify = y)"
   ]
  },
  {
   "cell_type": "code",
   "execution_count": 9,
   "metadata": {},
   "outputs": [
    {
     "name": "stderr",
     "output_type": "stream",
     "text": [
      "/Users/maithilijoshi/anaconda3/lib/python3.6/site-packages/sklearn/preprocessing/data.py:645: DataConversionWarning: Data with input dtype int64, float64 were all converted to float64 by StandardScaler.\n",
      "  return self.partial_fit(X, y)\n",
      "/Users/maithilijoshi/anaconda3/lib/python3.6/site-packages/sklearn/base.py:464: DataConversionWarning: Data with input dtype int64, float64 were all converted to float64 by StandardScaler.\n",
      "  return self.fit(X, **fit_params).transform(X)\n",
      "/Users/maithilijoshi/anaconda3/lib/python3.6/site-packages/ipykernel_launcher.py:3: DataConversionWarning: Data with input dtype int64, float64 were all converted to float64 by StandardScaler.\n",
      "  This is separate from the ipykernel package so we can avoid doing imports until\n"
     ]
    }
   ],
   "source": [
    "ss = StandardScaler()\n",
    "X_train_sc = ss.fit_transform(X_train)\n",
    "X_test_sc = ss.transform(X_test)"
   ]
  },
  {
   "cell_type": "code",
   "execution_count": 10,
   "metadata": {},
   "outputs": [],
   "source": [
    "#instantiate and fit a PCA model\n",
    "pca = PCA()\n",
    "X_train_pca = pca.fit_transform(X_train_sc)\n",
    "X_test_pca = pca.transform(X_test_sc)"
   ]
  },
  {
   "cell_type": "code",
   "execution_count": 11,
   "metadata": {},
   "outputs": [],
   "source": [
    "#Place PCA into XGBoost\n",
    "xg = XGBClassifier(max_depth = 12, \n",
    "                  min_child_weight= 3,\n",
    "                   random_state=42)\n",
    "\n",
    "xg.fit(X_train_pca, y_train)\n",
    "\n",
    "y_pred = xg.predict(X_test_pca)"
   ]
  },
  {
   "cell_type": "code",
   "execution_count": 12,
   "metadata": {},
   "outputs": [
    {
     "name": "stdout",
     "output_type": "stream",
     "text": [
      "F1 Score: 79.00%\n"
     ]
    }
   ],
   "source": [
    "print(\"F1 Score: %.2f%%\" % round((f1_score(y_test, y_pred)* 100)))"
   ]
  },
  {
   "cell_type": "markdown",
   "metadata": {},
   "source": [
    "<a id='Variance'></a>\n",
    "# Explained Variance\n",
    "\n",
    "- 83.3% of our variance can be explained by 10 of our variables"
   ]
  },
  {
   "cell_type": "code",
   "execution_count": 13,
   "metadata": {
    "scrolled": true
   },
   "outputs": [
    {
     "name": "stdout",
     "output_type": "stream",
     "text": [
      "Explained variance: [0.179 0.108 0.088 0.084 0.078 0.075 0.06  0.059 0.057 0.046 0.043 0.042\n",
      " 0.033 0.027 0.01  0.008 0.003]\n",
      "Cumulative explained variance: [0.179 0.286 0.374 0.458 0.537 0.612 0.672 0.731 0.787 0.833 0.876 0.918\n",
      " 0.952 0.979 0.989 0.997 1.   ]\n"
     ]
    }
   ],
   "source": [
    "var_exp = pca.explained_variance_ratio_\n",
    "print(f'Explained variance: {np.round(var_exp,3)}')\n",
    "\n",
    "#cumulative variance explained\n",
    "cum_var_exp = np.cumsum(var_exp)\n",
    "print(f'Cumulative explained variance: {np.round(cum_var_exp,3)}')"
   ]
  },
  {
   "cell_type": "markdown",
   "metadata": {},
   "source": [
    "So, it turns out that clustering doesn't do much better than XGBoost alone."
   ]
  },
  {
   "cell_type": "code",
   "execution_count": 14,
   "metadata": {},
   "outputs": [
    {
     "data": {
      "image/png": "[encoded data removed]",
      "text/plain": [
       "<Figure size 648x504 with 1 Axes>"
      ]
     },
     "metadata": {
      "needs_background": "light"
     },
     "output_type": "display_data"
    }
   ],
   "source": [
    "#from lesson 8.4\n",
    "plt.figure(figsize=(9,7))\n",
    "\n",
    "# Plot the cumulative explained variance\n",
    "component_number = range(len(cum_var_exp))\n",
    "plt.plot(component_number, cum_var_exp, lw=3)\n",
    "\n",
    "# Add horizontal lines at y=0 and y=100\n",
    "plt.axhline(y=0, linewidth=1, color='grey', ls='dashed')\n",
    "plt.axhline(y=1, linewidth=1, color='grey', ls='dashed')\n",
    "\n",
    "# Set the x and y axis limits\n",
    "ax = plt.gca()\n",
    "ax.set_xlim([-1,26])\n",
    "ax.set_ylim([-0.05,1.05])\n",
    "\n",
    "# Label the axes\n",
    "ax.set_ylabel('cumulative variance explained', fontsize=16)\n",
    "ax.set_xlabel('component', fontsize=16)\n",
    "\n",
    "# Make the tick labels bigger\n",
    "for tick in ax.xaxis.get_major_ticks():\n",
    "    tick.label.set_fontsize(12) \n",
    "for tick in ax.yaxis.get_major_ticks():\n",
    "    tick.label.set_fontsize(12) \n",
    "    \n",
    "# Add title\n",
    "ax.set_title('Component vs Cumulative variance explained\\n', fontsize=20)\n",
    "\n",
    "plt.show()"
   ]
  }
 ],
 "metadata": {
  "kernelspec": {
   "display_name": "Python 3",
   "language": "python",
   "name": "python3"
  },
  "language_info": {
   "codemirror_mode": {
    "name": "ipython",
    "version": 3
   },
   "file_extension": ".py",
   "mimetype": "text/x-python",
   "name": "python",
   "nbconvert_exporter": "python",
   "pygments_lexer": "ipython3",
   "version": "3.6.8"
  }
 },
 "nbformat": 4,
 "nbformat_minor": 2
}
